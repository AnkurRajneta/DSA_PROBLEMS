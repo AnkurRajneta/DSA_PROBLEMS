{
 "cells": [
  {
   "cell_type": "markdown",
   "metadata": {},
   "source": [
    "Two sum problem"
   ]
  },
  {
   "cell_type": "code",
   "execution_count": 6,
   "metadata": {},
   "outputs": [],
   "source": [
    "\n",
    "def twoSum(nums, target):\n",
    "        num_to_index = {}\n",
    "        n= len(nums)\n",
    "        for i in range(n):\n",
    "            required = target-nums[i]\n",
    "            if required in num_to_index:\n",
    "                return [num_to_index[required],i]\n",
    "\n",
    "            num_to_index[nums[i]] = i\n",
    "        return []\n",
    "        "
   ]
  },
  {
   "cell_type": "code",
   "execution_count": 7,
   "metadata": {},
   "outputs": [
    {
     "data": {
      "text/plain": [
       "[0, 1]"
      ]
     },
     "execution_count": 7,
     "metadata": {},
     "output_type": "execute_result"
    }
   ],
   "source": [
    "twoSum([2, 7, 11, 15], 9)"
   ]
  },
  {
   "cell_type": "markdown",
   "metadata": {},
   "source": [
    "palindrome problem"
   ]
  },
  {
   "cell_type": "code",
   "execution_count": 1,
   "metadata": {},
   "outputs": [],
   "source": [
    "def ispalindrome(x):\n",
    "\n",
    "    if x < 0:\n",
    "        return False\n",
    "\n",
    "    original = x\n",
    "    numreversed = 0\n",
    "\n",
    "    while x > 0:\n",
    "        lastdigit = x % 10\n",
    "        numreversed = numreversed*10 + lastdigit\n",
    "        x = x // 10\n",
    "\n",
    "    if numreversed == original:\n",
    "        return True"
   ]
  },
  {
   "cell_type": "code",
   "execution_count": 3,
   "metadata": {},
   "outputs": [],
   "source": [
    "ispalindrome(121)"
   ]
  },
  {
   "cell_type": "markdown",
   "metadata": {},
   "source": [
    "Roman to Integer"
   ]
  },
  {
   "cell_type": "code",
   "execution_count": 11,
   "metadata": {},
   "outputs": [],
   "source": [
    "def roman_to_integer(s):\n",
    "    roman = {\"I\":1, \"V\":5, \"X\":10, \"L\":50, \"C\":100, \"D\":500, \"M\":1000}\n",
    "\n",
    "    res = 0\n",
    "\n",
    "    for i in range(len(s)):\n",
    "\n",
    "        if(i+1<len(s))  and roman[s[i]] < roman[s [i+1]]:\n",
    "\n",
    "            res -= roman[s[i]]\n",
    "\n",
    "        else:\n",
    "\n",
    "            res += roman[s[i]]\n",
    "\n",
    "    return res"
   ]
  },
  {
   "cell_type": "code",
   "execution_count": 12,
   "metadata": {},
   "outputs": [
    {
     "data": {
      "text/plain": [
       "27"
      ]
     },
     "execution_count": 12,
     "metadata": {},
     "output_type": "execute_result"
    }
   ],
   "source": [
    "roman_to_integer('XXVII')"
   ]
  },
  {
   "cell_type": "markdown",
   "metadata": {},
   "source": [
    "Valid Parentheses"
   ]
  },
  {
   "cell_type": "code",
   "execution_count": 9,
   "metadata": {},
   "outputs": [],
   "source": [
    "def paran(s):\n",
    "    stack = []\n",
    "    closeToOpen = {\")\" : \"(\", \"]\" : \"[\", \"}\" :\"{\"}\n",
    "\n",
    "    for i in s:\n",
    "        if i in closeToOpen:\n",
    "            if stack and stack[-1] == closeToOpen[i]:\n",
    "                stack.pop()\n",
    "            else:\n",
    "                return False\n",
    "        else:\n",
    "            stack.append(i)\n",
    "\n",
    "    return True if not stack else False"
   ]
  },
  {
   "cell_type": "code",
   "execution_count": 10,
   "metadata": {},
   "outputs": [
    {
     "data": {
      "text/plain": [
       "True"
      ]
     },
     "execution_count": 10,
     "metadata": {},
     "output_type": "execute_result"
    }
   ],
   "source": [
    "paran(\"()[]{}\")"
   ]
  }
 ],
 "metadata": {
  "kernelspec": {
   "display_name": "Python 3",
   "language": "python",
   "name": "python3"
  },
  "language_info": {
   "codemirror_mode": {
    "name": "ipython",
    "version": 3
   },
   "file_extension": ".py",
   "mimetype": "text/x-python",
   "name": "python",
   "nbconvert_exporter": "python",
   "pygments_lexer": "ipython3",
   "version": "3.10.5"
  }
 },
 "nbformat": 4,
 "nbformat_minor": 2
}
