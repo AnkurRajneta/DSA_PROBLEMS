{
 "cells": [
  {
   "cell_type": "code",
   "execution_count": 20,
   "metadata": {},
   "outputs": [],
   "source": [
    "def duplicate(arr):\n",
    "    arr.sort()\n",
    "    for i in range(1,len(arr)):\n",
    "        if arr[i] == arr[i-1]:\n",
    "            return True\n",
    "    return False\n",
    "    \n",
    "        \n",
    "        "
   ]
  },
  {
   "cell_type": "code",
   "execution_count": 23,
   "metadata": {},
   "outputs": [
    {
     "data": {
      "text/plain": [
       "True"
      ]
     },
     "execution_count": 23,
     "metadata": {},
     "output_type": "execute_result"
    }
   ],
   "source": [
    "duplicate([1, 4, 3, 4])"
   ]
  },
  {
   "cell_type": "code",
   "execution_count": 12,
   "metadata": {},
   "outputs": [],
   "source": [
    "from collections import Counter\n",
    "def anagram(s,t):\n",
    "    if len(s) != len(t):\n",
    "        return False\n",
    "    s_dict = Counter(s)\n",
    "    t_dict = Counter(t)\n",
    "\n",
    "    return s_dict == t_dict"
   ]
  },
  {
   "cell_type": "code",
   "execution_count": 14,
   "metadata": {},
   "outputs": [
    {
     "data": {
      "text/plain": [
       "False"
      ]
     },
     "execution_count": 14,
     "metadata": {},
     "output_type": "execute_result"
    }
   ],
   "source": [
    "s=\"jsr\"\n",
    "t=\"jam\"\n",
    "anagram(s,t)"
   ]
  },
  {
   "cell_type": "code",
   "execution_count": 18,
   "metadata": {},
   "outputs": [],
   "source": [
    "def isAnagram(s,t):\n",
    "    smap,tmap = {}, {}\n",
    "\n",
    "    for c in s:\n",
    "        if c in smap:\n",
    "            smap[c] += 1\n",
    "\n",
    "        else:\n",
    "            smap[c] = 1\n",
    "\n",
    "    for c in t:\n",
    "        if c in tmap:\n",
    "            tmap[c]+=1\n",
    "        else:\n",
    "            tmap[c] = 1\n",
    "\n",
    "    if len(smap) != len(tmap):\n",
    "        return False\n",
    "    \n",
    "    else:\n",
    "        for k1,v1 in smap.items():\n",
    "            if k1 in tmap and v1 == tmap[k1]:\n",
    "                continue\n",
    "            \n",
    "            else:\n",
    "                return False\n",
    "        return True"
   ]
  },
  {
   "cell_type": "code",
   "execution_count": 21,
   "metadata": {},
   "outputs": [
    {
     "data": {
      "text/plain": [
       "True"
      ]
     },
     "execution_count": 21,
     "metadata": {},
     "output_type": "execute_result"
    }
   ],
   "source": [
    "s =\"anagram\"\n",
    "t = \"nagaram\"\n",
    "\n",
    "isAnagram(s,t)"
   ]
  }
 ],
 "metadata": {
  "kernelspec": {
   "display_name": "Python 3",
   "language": "python",
   "name": "python3"
  },
  "language_info": {
   "codemirror_mode": {
    "name": "ipython",
    "version": 3
   },
   "file_extension": ".py",
   "mimetype": "text/x-python",
   "name": "python",
   "nbconvert_exporter": "python",
   "pygments_lexer": "ipython3",
   "version": "3.12.4"
  }
 },
 "nbformat": 4,
 "nbformat_minor": 2
}
