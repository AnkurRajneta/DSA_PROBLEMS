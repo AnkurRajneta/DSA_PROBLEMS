{
 "cells": [
  {
   "cell_type": "markdown",
   "metadata": {},
   "source": [
    "Validate Subsequnce"
   ]
  },
  {
   "cell_type": "code",
   "execution_count": 1,
   "metadata": {},
   "outputs": [],
   "source": [
    "def validSubsequence(array,sequence):\n",
    "    arrIdx = 0\n",
    "    seqIdx = 0\n",
    "\n",
    "    while arrIdx< len(array) and seqIdx<len(sequence):\n",
    "        if array[arrIdx] ==sequence[seqIdx]:\n",
    "            seqIdx +=1\n",
    "        arrIdx += 1\n",
    "\n",
    "    return seqIdx ==len(sequence)\n"
   ]
  },
  {
   "cell_type": "code",
   "execution_count": 3,
   "metadata": {},
   "outputs": [
    {
     "data": {
      "text/plain": [
       "False"
      ]
     },
     "execution_count": 3,
     "metadata": {},
     "output_type": "execute_result"
    }
   ],
   "source": [
    "validSubsequence([1,4,3,6,5,7],[4,3,6])"
   ]
  }
 ],
 "metadata": {
  "kernelspec": {
   "display_name": "Python 3",
   "language": "python",
   "name": "python3"
  },
  "language_info": {
   "codemirror_mode": {
    "name": "ipython",
    "version": 3
   },
   "file_extension": ".py",
   "mimetype": "text/x-python",
   "name": "python",
   "nbconvert_exporter": "python",
   "pygments_lexer": "ipython3",
   "version": "3.10.5"
  }
 },
 "nbformat": 4,
 "nbformat_minor": 2
}
