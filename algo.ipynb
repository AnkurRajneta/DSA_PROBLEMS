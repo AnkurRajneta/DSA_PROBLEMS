{
 "cells": [
  {
   "cell_type": "markdown",
   "metadata": {},
   "source": [
    "Validate Subsequnce"
   ]
  },
  {
   "cell_type": "code",
   "execution_count": 17,
   "metadata": {},
   "outputs": [],
   "source": [
    "def validSubsequence(array,sequence):\n",
    "    seqIdx = 0\n",
    "    for value in array:\n",
    "        if seqIdx == len(sequence):\n",
    "            break\n",
    "        if sequence[seqIdx] == value:\n",
    "            seqIdx += 1\n",
    "\n",
    "    return seqIdx == len(sequence)"
   ]
  },
  {
   "cell_type": "code",
   "execution_count": 18,
   "metadata": {},
   "outputs": [
    {
     "data": {
      "text/plain": [
       "True"
      ]
     },
     "execution_count": 18,
     "metadata": {},
     "output_type": "execute_result"
    }
   ],
   "source": [
    "validSubsequence([1,4,3,6,5,7],[4,3,6])"
   ]
  },
  {
   "cell_type": "markdown",
   "metadata": {},
   "source": [
    "Sorted Squared Array"
   ]
  },
  {
   "cell_type": "code",
   "execution_count": 20,
   "metadata": {},
   "outputs": [],
   "source": [
    "def sorted_sequence(array):\n",
    "    sortedSeq = [0 for i in array]\n",
    "    smallerIdx = 0\n",
    "    largerIdx = len(array) - 1\n",
    "\n",
    "    for j in reversed(range(len(array))):\n",
    "        smaller = array[smallerIdx]\n",
    "        larger  = array[largerIdx]\n",
    "\n",
    "        if abs(smaller) > abs(larger):\n",
    "            sortedSeq[j] = smaller * smaller\n",
    "            smallerIdx += 1\n",
    "\n",
    "        else:\n",
    "            sortedSeq[j] = larger*larger\n",
    "            largerIdx -=  1\n",
    "\n",
    "    print(sortedSeq)"
   ]
  },
  {
   "cell_type": "code",
   "execution_count": 22,
   "metadata": {},
   "outputs": [
    {
     "name": "stdout",
     "output_type": "stream",
     "text": [
      "[9, 16, 25, 49, 81]\n"
     ]
    }
   ],
   "source": [
    "sorted_sequence([-5,-3,4,7,9])"
   ]
  }
 ],
 "metadata": {
  "kernelspec": {
   "display_name": "Python 3",
   "language": "python",
   "name": "python3"
  },
  "language_info": {
   "codemirror_mode": {
    "name": "ipython",
    "version": 3
   },
   "file_extension": ".py",
   "mimetype": "text/x-python",
   "name": "python",
   "nbconvert_exporter": "python",
   "pygments_lexer": "ipython3",
   "version": "3.10.5"
  }
 },
 "nbformat": 4,
 "nbformat_minor": 2
}
